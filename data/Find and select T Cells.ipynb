version https://git-lfs.github.com/spec/v1
oid sha256:4ac4c3b5d94afdc8a3685ba2448052ee5c8a9593ee584c30ea72216eecfa15a6
size 25159
